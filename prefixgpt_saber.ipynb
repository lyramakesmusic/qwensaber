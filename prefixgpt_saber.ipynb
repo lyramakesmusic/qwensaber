{
  "cells": [
    {
      "cell_type": "code",
      "execution_count": null,
      "metadata": {
        "id": "lIYdn1woOS1n",
        "colab": {
          "base_uri": "https://localhost:8080/"
        },
        "outputId": "c8d3250f-7e56-49dc-d91d-9ad79fbeb108"
      },
      "outputs": [
        {
          "output_type": "stream",
          "name": "stdout",
          "text": [
            "\u001b[?25l     \u001b[90m━━━━━━━━━━━━━━━━━━━━━━━━━━━━━━━━━━━━━━━━\u001b[0m \u001b[32m0.0/46.9 kB\u001b[0m \u001b[31m?\u001b[0m eta \u001b[36m-:--:--\u001b[0m\r\u001b[2K     \u001b[90m━━━━━━━━━━━━━━━━━━━━━━━━━━━━━━━━━━━━━━━━\u001b[0m \u001b[32m46.9/46.9 kB\u001b[0m \u001b[31m2.1 MB/s\u001b[0m eta \u001b[36m0:00:00\u001b[0m\n",
            "\u001b[?25h\u001b[?25l   \u001b[90m━━━━━━━━━━━━━━━━━━━━━━━━━━━━━━━━━━━━━━━━\u001b[0m \u001b[32m0.0/280.1 kB\u001b[0m \u001b[31m?\u001b[0m eta \u001b[36m-:--:--\u001b[0m\r\u001b[2K   \u001b[90m━━━━━━━━━━━━━━━━━━━━━━━━━━━━━━━━━━━━━━━━\u001b[0m \u001b[32m280.1/280.1 kB\u001b[0m \u001b[31m8.3 MB/s\u001b[0m eta \u001b[36m0:00:00\u001b[0m\n",
            "\u001b[?25h"
          ]
        }
      ],
      "source": [
        "!pip install -q --no-deps bitsandbytes accelerate xformers==0.0.29.post3 peft trl triton cut_cross_entropy unsloth_zoo\n",
        "!pip install -q sentencepiece protobuf \"datasets>=3.4.1\" huggingface_hub hf_transfer\n",
        "!pip install -q --no-deps unsloth\n",
        "!pip install -q -r requirements.txt"
      ]
    },
    {
      "cell_type": "code",
      "source": [
        "command = (\n",
        "    \"python train.py\"\n",
        "    \" ./dataset\"\n",
        "    \" --max_steps 50\"\n",
        "    \" --learning_rate 4e-5\"\n",
        "    \" --max_seq_length 32767\"\n",
        "    \" --output_dir beatsaber_model\"\n",
        ")\n",
        "\n",
        "!{command}"
      ],
      "metadata": {
        "id": "vE0OKAwPJ4Gs"
      },
      "execution_count": null,
      "outputs": []
    },
    {
      "cell_type": "code",
      "source": [
        "!rm -r beatsaber_model"
      ],
      "metadata": {
        "id": "p0uT_cTJscTz"
      },
      "execution_count": null,
      "outputs": []
    },
    {
      "cell_type": "code",
      "source": [
        "!python infer.py \"./beatsaber_model\" \"desert fury.ogg\" --bpm 172 --duration 30 --temperature 2.0 --min_p 0.1"
      ],
      "metadata": {
        "id": "-hehFQfFuatU",
        "collapsed": true
      },
      "execution_count": null,
      "outputs": []
    },
    {
      "cell_type": "code",
      "source": [
        "from infer import load_model, prepare_audio\n",
        "from data import (\n",
        "    BOS, EOS, AUDIO_START, AUDIO_END, NOTES_START,\n",
        "    TIME_RANGE, NOTE_RANGE, AUDIO_RANGE, audio_tokens_to_sequence,\n",
        "    time_to_token, decode_note, get_audio_tokenizer\n",
        ")\n",
        "import torch\n",
        "import itertools\n",
        "\n",
        "AUDIO_TOKENIZER = get_audio_tokenizer(bandwidth=1.5)\n",
        "model, tokenizer = load_model(\"./beatsaber_model\")\n",
        "audio = prepare_audio(\"desert fury.ogg\", 30)\n",
        "\n",
        "audio_tokens = AUDIO_TOKENIZER.encode(audio)\n",
        "\n",
        "flattened_audio_tokens = list(itertools.chain.from_iterable(audio_tokens))\n",
        "print(f\"{tokenizer.decode(flattened_audio_tokens)}\")"
      ],
      "metadata": {
        "id": "AwybTHR41PHE"
      },
      "execution_count": null,
      "outputs": []
    },
    {
      "cell_type": "code",
      "source": [
        "from maps import ZippedBeatSaberDataset\n",
        "from data import CachedDataset, create_training_sequence\n",
        "from pathlib import Path\n",
        "from infer import load_model\n",
        "\n",
        "dataset_dir = Path(\"dataset\")\n",
        "zip_files = list(dataset_dir.glob(\"*.zip\"))\n",
        "raw_dataset = ZippedBeatSaberDataset(dataset_dir)\n",
        "cached_dataset = CachedDataset(raw_dataset)\n",
        "\n",
        "audio_tokens, notes, bpm = cached_dataset[0]\n",
        "\n",
        "sequence = create_training_sequence(audio_tokens, notes, max_length=32767)\n",
        "\n",
        "model, tokenizer = load_model(\"./beatsaber_model\")\n",
        "\n",
        "decoded_text = tokenizer.decode(sequence)\n",
        "print(f\"{decoded_text}\")"
      ],
      "metadata": {
        "id": "DOt1GiZ96Mhn"
      },
      "execution_count": null,
      "outputs": []
    },
    {
      "cell_type": "code",
      "source": [
        "model = None"
      ],
      "metadata": {
        "id": "uAAcL2Nc9Cku"
      },
      "execution_count": null,
      "outputs": []
    }
  ],
  "metadata": {
    "colab": {
      "provenance": [],
      "gpuType": "A100",
      "machine_shape": "hm"
    },
    "kernelspec": {
      "display_name": "Python 3",
      "name": "python3"
    },
    "accelerator": "GPU"
  },
  "nbformat": 4,
  "nbformat_minor": 0
}